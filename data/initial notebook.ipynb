{
 "cells": [
  {
   "cell_type": "markdown",
   "metadata": {},
   "source": [
    "# jupyter のtest 用 notebook\n",
    "- home画面の「new」から新しいnotebookをひらけます。（言語はpythonにしました。）\n",
    "- タイトルをUntitledからinitial notebookに変えました\n",
    "- 一番最初のセル（ここ）を選択して `code` から `Markdown` に変える事で、このメモを書いています\n",
    "- 入力完了後に、Shift + Enter を押す事で、結果を出力し、新しいセルを表示してくれます"
   ]
  },
  {
   "cell_type": "code",
   "execution_count": 1,
   "metadata": {},
   "outputs": [
    {
     "data": {
      "text/plain": [
       "2"
      ]
     },
     "execution_count": 1,
     "metadata": {},
     "output_type": "execute_result"
    }
   ],
   "source": [
    "# 1+1\n",
    "1+1"
   ]
  },
  {
   "cell_type": "code",
   "execution_count": 2,
   "metadata": {},
   "outputs": [
    {
     "data": {
      "text/plain": [
       "[4, 3, 4]"
      ]
     },
     "execution_count": 2,
     "metadata": {},
     "output_type": "execute_result"
    }
   ],
   "source": [
    "names = ['spam', 'ham', 'eggs']\n",
    "lens =[]\n",
    "for name in names:\n",
    "    lens.append(len(name))\n",
    "    \n",
    "lens"
   ]
  },
  {
   "cell_type": "code",
   "execution_count": 3,
   "metadata": {},
   "outputs": [
    {
     "data": {
      "text/plain": [
       "[[(0, 0), (0, 4), (0, 16), (0, 36), (0, 64)],\n",
       " [(1, 0), (1, 4), (1, 16), (1, 36), (1, 64)],\n",
       " [(2, 0), (2, 4), (2, 16), (2, 36), (2, 64)]]"
      ]
     },
     "execution_count": 3,
     "metadata": {},
     "output_type": "execute_result"
    }
   ],
   "source": [
    "# リスト内包表記\n",
    "[[(y, x * x) for x in range(10) if x % 2 == 0] for y in range(3)]"
   ]
  },
  {
   "cell_type": "code",
   "execution_count": 4,
   "metadata": {},
   "outputs": [
    {
     "data": {
      "text/plain": [
       "datetime.datetime(2019, 6, 28, 13, 52, 11, 767958)"
      ]
     },
     "execution_count": 4,
     "metadata": {},
     "output_type": "execute_result"
    }
   ],
   "source": [
    "#datetime モジュール\n",
    "from datetime import datetime,date\n",
    "\n",
    "datetime.now()"
   ]
  },
  {
   "cell_type": "code",
   "execution_count": 5,
   "metadata": {},
   "outputs": [
    {
     "data": {
      "text/plain": [
       "datetime.datetime(2018, 7, 11, 0, 0)"
      ]
     },
     "execution_count": 5,
     "metadata": {},
     "output_type": "execute_result"
    }
   ],
   "source": [
    "datetime.strptime('2018年7月11日', '%Y年%m月%d日')"
   ]
  },
  {
   "cell_type": "code",
   "execution_count": 6,
   "metadata": {},
   "outputs": [
    {
     "name": "stdout",
     "output_type": "stream",
     "text": [
      "574 µs ± 15.4 µs per loop (mean ± std. dev. of 10 runs, 1000 loops each)\n"
     ]
    }
   ],
   "source": [
    "# 時間計測のお試し \n",
    "# %timeit は１行\n",
    "# 0から9999の2乗のリストを生成\n",
    "# ループ回数:1000 試行回数:10\n",
    "%timeit -n 1000 -r 10 [ x * x for x in range(10000)]"
   ]
  },
  {
   "cell_type": "code",
   "execution_count": 9,
   "metadata": {},
   "outputs": [
    {
     "name": "stdout",
     "output_type": "stream",
     "text": [
      "1.04 ms ± 38.2 µs per loop (mean ± std. dev. of 10 runs, 1000 loops each)\n"
     ]
    }
   ],
   "source": [
    "# %%timeit は セル内全て\n",
    "%%timeit -n 1000 -r 10\n",
    "ret = []\n",
    "for x in range(10000):\n",
    "    ret.append(x * x)"
   ]
  },
  {
   "cell_type": "code",
   "execution_count": 10,
   "metadata": {},
   "outputs": [
    {
     "name": "stdout",
     "output_type": "stream",
     "text": [
      "Package            Version \r\n",
      "------------------ --------\r\n",
      "alembic            1.0.8   \r\n",
      "asn1crypto         0.24.0  \r\n",
      "async-generator    1.10    \r\n",
      "attrs              19.1.0  \r\n",
      "backcall           0.1.0   \r\n",
      "beautifulsoup4     4.7.1   \r\n",
      "bleach             3.1.0   \r\n",
      "blinker            1.4     \r\n",
      "bokeh              1.0.4   \r\n",
      "certifi            2019.3.9\r\n",
      "certipy            0.1.3   \r\n",
      "cffi               1.12.3  \r\n",
      "chardet            3.0.4   \r\n",
      "Click              7.0     \r\n",
      "cloudpickle        0.8.1   \r\n",
      "conda              4.6.14  \r\n",
      "cryptography       2.6.1   \r\n",
      "cycler             0.10.0  \r\n",
      "Cython             0.29.7  \r\n",
      "cytoolz            0.9.0.1 \r\n",
      "dask               1.1.5   \r\n",
      "decorator          4.4.0   \r\n",
      "defusedxml         0.5.0   \r\n",
      "dill               0.2.9   \r\n",
      "distributed        1.28.0  \r\n",
      "entrypoints        0.3     \r\n",
      "fastcache          1.1.0   \r\n",
      "gmpy2              2.0.8   \r\n",
      "h5py               2.9.0   \r\n",
      "heapdict           1.0.0   \r\n",
      "idna               2.8     \r\n",
      "imageio            2.5.0   \r\n",
      "ipykernel          5.1.0   \r\n",
      "ipython            7.5.0   \r\n",
      "ipython-genutils   0.2.0   \r\n",
      "ipywidgets         7.4.2   \r\n",
      "jedi               0.13.3  \r\n",
      "Jinja2             2.10.1  \r\n",
      "jsonschema         3.0.1   \r\n",
      "jupyter-client     5.2.4   \r\n",
      "jupyter-core       4.4.0   \r\n",
      "jupyterhub         1.0.0   \r\n",
      "jupyterlab         0.35.5  \r\n",
      "jupyterlab-server  0.2.0   \r\n",
      "kiwisolver         1.1.0   \r\n",
      "llvmlite           0.27.1  \r\n",
      "locket             0.2.0   \r\n",
      "Mako               1.0.7   \r\n",
      "MarkupSafe         1.1.1   \r\n",
      "matplotlib         3.0.3   \r\n",
      "mistune            0.8.4   \r\n",
      "mpmath             1.1.0   \r\n",
      "msgpack            0.6.1   \r\n",
      "nbconvert          5.5.0   \r\n",
      "nbformat           4.4.0   \r\n",
      "networkx           2.3     \r\n",
      "notebook           5.7.8   \r\n",
      "numba              0.42.1  \r\n",
      "numexpr            2.6.9   \r\n",
      "numpy              1.15.4  \r\n",
      "oauthlib           3.0.1   \r\n",
      "olefile            0.46    \r\n",
      "packaging          19.0    \r\n",
      "pamela             1.0.0   \r\n",
      "pandas             0.24.2  \r\n",
      "pandocfilters      1.4.2   \r\n",
      "parso              0.4.0   \r\n",
      "partd              0.3.9   \r\n",
      "patsy              0.5.1   \r\n",
      "pexpect            4.7.0   \r\n",
      "pickleshare        0.7.5   \r\n",
      "Pillow             6.0.0   \r\n",
      "pip                19.1    \r\n",
      "prometheus-client  0.6.0   \r\n",
      "prompt-toolkit     2.0.9   \r\n",
      "protobuf           3.7.1   \r\n",
      "psutil             5.6.2   \r\n",
      "ptyprocess         0.6.0   \r\n",
      "pycosat            0.6.3   \r\n",
      "pycparser          2.19    \r\n",
      "pycurl             7.43.0.2\r\n",
      "Pygments           2.4.0   \r\n",
      "PyJWT              1.7.1   \r\n",
      "pyOpenSSL          19.0.0  \r\n",
      "pyparsing          2.4.0   \r\n",
      "pyrsistent         0.15.2  \r\n",
      "PySocks            1.6.8   \r\n",
      "python-dateutil    2.8.0   \r\n",
      "python-editor      1.0.4   \r\n",
      "pytz               2019.1  \r\n",
      "PyWavelets         1.0.3   \r\n",
      "PyYAML             5.1     \r\n",
      "pyzmq              18.0.1  \r\n",
      "requests           2.21.0  \r\n",
      "rpy2               2.9.4   \r\n",
      "ruamel-yaml        0.15.71 \r\n",
      "scikit-image       0.14.2  \r\n",
      "scikit-learn       0.20.3  \r\n",
      "scipy              1.2.1   \r\n",
      "seaborn            0.9.0   \r\n",
      "Send2Trash         1.5.0   \r\n",
      "setuptools         41.0.1  \r\n",
      "six                1.12.0  \r\n",
      "sortedcontainers   2.1.0   \r\n",
      "soupsieve          1.9.1   \r\n",
      "SQLAlchemy         1.3.3   \r\n",
      "statsmodels        0.9.0   \r\n",
      "sympy              1.3     \r\n",
      "tblib              1.3.2   \r\n",
      "terminado          0.8.2   \r\n",
      "testpath           0.4.2   \r\n",
      "toolz              0.9.0   \r\n",
      "tornado            6.0.2   \r\n",
      "traitlets          4.3.2   \r\n",
      "tzlocal            1.5.1   \r\n",
      "urllib3            1.24.2  \r\n",
      "vincent            0.4.4   \r\n",
      "wcwidth            0.1.7   \r\n",
      "webencodings       0.5.1   \r\n",
      "wheel              0.33.1  \r\n",
      "widgetsnbextension 3.4.2   \r\n",
      "xlrd               1.2.0   \r\n",
      "zict               0.1.4   \r\n"
     ]
    }
   ],
   "source": [
    "# shell command\n",
    "!pip list"
   ]
  },
  {
   "cell_type": "code",
   "execution_count": null,
   "metadata": {},
   "outputs": [],
   "source": []
  }
 ],
 "metadata": {
  "kernelspec": {
   "display_name": "Python 3",
   "language": "python",
   "name": "python3"
  },
  "language_info": {
   "codemirror_mode": {
    "name": "ipython",
    "version": 3
   },
   "file_extension": ".py",
   "mimetype": "text/x-python",
   "name": "python",
   "nbconvert_exporter": "python",
   "pygments_lexer": "ipython3",
   "version": "3.7.3"
  }
 },
 "nbformat": 4,
 "nbformat_minor": 2
}
